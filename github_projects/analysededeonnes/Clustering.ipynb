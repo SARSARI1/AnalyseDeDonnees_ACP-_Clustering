{
 "cells": [
  {
   "cell_type": "markdown",
   "id": "b7d650e8",
   "metadata": {},
   "source": [
    "## TP4: Clustering "
   ]
  },
  {
   "cell_type": "code",
   "execution_count": 220,
   "id": "b5f05ba7",
   "metadata": {},
   "outputs": [
    {
     "name": "stdout",
     "output_type": "stream",
     "text": [
      "      CustomerID  UnitPrice  Quantity       InvoiceDate\n",
      "0        17850.0       2.55         6  01-12-2010 08:26\n",
      "1        17850.0       3.39         6  01-12-2010 08:26\n",
      "2        17850.0       2.75         8  01-12-2010 08:26\n",
      "3        17850.0       3.39         6  01-12-2010 08:26\n",
      "4        17850.0       3.39         6  01-12-2010 08:26\n",
      "...          ...        ...       ...               ...\n",
      "4995     18168.0      10.95         2  02-12-2010 18:08\n",
      "4996     18168.0       2.55         2  02-12-2010 18:08\n",
      "4997     18168.0       4.95         3  02-12-2010 18:08\n",
      "4998     18168.0       1.65         2  02-12-2010 18:08\n",
      "4999     18168.0       0.85         2  02-12-2010 18:08\n",
      "\n",
      "[5000 rows x 4 columns]\n"
     ]
    }
   ],
   "source": [
    "import pandas as pd\n",
    "data = pd.read_csv(r'C:\\Users\\oki\\Desktop\\OnlineRetail.csv', encoding='latin1',nrows=5000)   \n",
    "df = pd.DataFrame(data, columns=['CustomerID','UnitPrice','Quantity','InvoiceDate'])\n",
    "print(df)"
   ]
  },
  {
   "cell_type": "markdown",
   "id": "dee4b6ad",
   "metadata": {},
   "source": [
    "# Frequency :"
   ]
  },
  {
   "cell_type": "code",
   "execution_count": 221,
   "id": "ed8ad5ac",
   "metadata": {},
   "outputs": [
    {
     "name": "stdout",
     "output_type": "stream",
     "text": [
      "            UnitPrice  Quantity  InvoiceDate\n",
      "CustomerID                                  \n",
      "12431.0            14        14           14\n",
      "12433.0            73        73           73\n",
      "12471.0             1         1            1\n",
      "12472.0            14        14           14\n",
      "12583.0            20        20           20\n",
      "...               ...       ...          ...\n",
      "18085.0             9         9            9\n",
      "18144.0             3         3            3\n",
      "18168.0            14        14           14\n",
      "18229.0             7         7            7\n",
      "18239.0            29        29           29\n",
      "\n",
      "[197 rows x 3 columns]\n"
     ]
    }
   ],
   "source": [
    "Frequency= df.groupby(['CustomerID']).count()\n",
    "print(Frequency)"
   ]
  },
  {
   "cell_type": "markdown",
   "id": "bcdd2bb0",
   "metadata": {},
   "source": [
    "## Monetary: "
   ]
  },
  {
   "cell_type": "code",
   "execution_count": 222,
   "id": "9ba7148b",
   "metadata": {},
   "outputs": [
    {
     "name": "stdout",
     "output_type": "stream",
     "text": [
      "      CustomerID  UnitPrice  Quantity       InvoiceDate  multiplied_column\n",
      "0        17850.0       2.55         6  01-12-2010 08:26              15.30\n",
      "1        17850.0       3.39         6  01-12-2010 08:26              20.34\n",
      "2        17850.0       2.75         8  01-12-2010 08:26              22.00\n",
      "3        17850.0       3.39         6  01-12-2010 08:26              20.34\n",
      "4        17850.0       3.39         6  01-12-2010 08:26              20.34\n",
      "...          ...        ...       ...               ...                ...\n",
      "4995     18168.0      10.95         2  02-12-2010 18:08              21.90\n",
      "4996     18168.0       2.55         2  02-12-2010 18:08               5.10\n",
      "4997     18168.0       4.95         3  02-12-2010 18:08              14.85\n",
      "4998     18168.0       1.65         2  02-12-2010 18:08               3.30\n",
      "4999     18168.0       0.85         2  02-12-2010 18:08               1.70\n",
      "\n",
      "[5000 rows x 5 columns]\n"
     ]
    }
   ],
   "source": [
    "df['multiplied_column'] = df['UnitPrice'] * df['Quantity']\n",
    "print(df)"
   ]
  },
  {
   "cell_type": "code",
   "execution_count": 223,
   "id": "3260dcc6",
   "metadata": {
    "scrolled": true
   },
   "outputs": [
    {
     "name": "stdout",
     "output_type": "stream",
     "text": [
      "     CustomerID  Monetary\n",
      "0       12431.0    358.25\n",
      "1       12433.0   1919.14\n",
      "2       12471.0    -17.00\n",
      "3       12472.0   -122.30\n",
      "4       12583.0    855.86\n",
      "..          ...       ...\n",
      "192     18085.0    303.90\n",
      "193     18144.0    165.05\n",
      "194     18168.0    139.60\n",
      "195     18229.0    344.20\n",
      "196     18239.0    438.10\n",
      "\n",
      "[197 rows x 2 columns]\n"
     ]
    }
   ],
   "source": [
    "Monetary=df.groupby('CustomerID')['multiplied_column'].sum().reset_index()\n",
    "Monetary.columns = ['CustomerID', 'Monetary']\n",
    "print(Monetary)"
   ]
  },
  {
   "cell_type": "markdown",
   "id": "3df418bd",
   "metadata": {},
   "source": [
    "## Recency:"
   ]
  },
  {
   "cell_type": "code",
   "execution_count": 224,
   "id": "4ebc1ea1",
   "metadata": {},
   "outputs": [
    {
     "name": "stdout",
     "output_type": "stream",
     "text": [
      "      CustomerID  UnitPrice  Quantity         InvoiceDate  multiplied_column  \\\n",
      "0        17850.0       2.55         6 2010-01-12 08:26:00              15.30   \n",
      "1        17850.0       3.39         6 2010-01-12 08:26:00              20.34   \n",
      "2        17850.0       2.75         8 2010-01-12 08:26:00              22.00   \n",
      "3        17850.0       3.39         6 2010-01-12 08:26:00              20.34   \n",
      "4        17850.0       3.39         6 2010-01-12 08:26:00              20.34   \n",
      "...          ...        ...       ...                 ...                ...   \n",
      "4995     18168.0      10.95         2 2010-02-12 18:08:00              21.90   \n",
      "4996     18168.0       2.55         2 2010-02-12 18:08:00               5.10   \n",
      "4997     18168.0       4.95         3 2010-02-12 18:08:00              14.85   \n",
      "4998     18168.0       1.65         2 2010-02-12 18:08:00               3.30   \n",
      "4999     18168.0       0.85         2 2010-02-12 18:08:00               1.70   \n",
      "\n",
      "      Recency  \n",
      "0        31.0  \n",
      "1        31.0  \n",
      "2         0.0  \n",
      "3        31.0  \n",
      "4        31.0  \n",
      "...       ...  \n",
      "4995      NaN  \n",
      "4996      NaN  \n",
      "4997      NaN  \n",
      "4998      NaN  \n",
      "4999      NaN  \n",
      "\n",
      "[5000 rows x 6 columns]\n"
     ]
    }
   ],
   "source": [
    "df['InvoiceDate'] = pd.to_datetime(df['InvoiceDate'])\n",
    "# Group by 'CustomerID' and get the maximum 'InvoiceDate' for each customer\n",
    "grouped_df = df.groupby('CustomerID')['InvoiceDate'].max().reset_index()\n",
    "df['Recency'] = (grouped_df['InvoiceDate'].max() - grouped_df['InvoiceDate']).dt.days\n",
    "print(df)"
   ]
  },
  {
   "cell_type": "markdown",
   "id": "80e72ad6",
   "metadata": {},
   "source": [
    "## un algorithme de clustering hiérarchique :"
   ]
  },
  {
   "cell_type": "code",
   "execution_count": 225,
   "id": "70d6f405",
   "metadata": {},
   "outputs": [
    {
     "name": "stdout",
     "output_type": "stream",
     "text": [
      "     CustomerID  Frequency  Recency  monetary\n",
      "0       12431.0         14       31    358.25\n",
      "1       12433.0         73       31   1919.14\n",
      "2       12471.0          1        0    -17.00\n",
      "3       12472.0         14       31   -122.30\n",
      "4       12583.0         20       31    855.86\n",
      "..          ...        ...      ...       ...\n",
      "192     18085.0          9       31    303.90\n",
      "193     18144.0          3       31    165.05\n",
      "194     18168.0         14        0    139.60\n",
      "195     18229.0          7       31    344.20\n",
      "196     18239.0         29        0    438.10\n",
      "\n",
      "[197 rows x 4 columns]\n"
     ]
    }
   ],
   "source": [
    "\n",
    "# Calculate frequency\n",
    "data = df.groupby('CustomerID')['InvoiceDate'].count().reset_index()\n",
    "data.columns = ['CustomerID', 'Frequency']\n",
    "\n",
    "# Calculate recency\n",
    "grouped_df = df.groupby('CustomerID')['InvoiceDate'].max().reset_index()\n",
    "grouped_df['Recency'] = (grouped_df['InvoiceDate'].max() - grouped_df['InvoiceDate']).dt.days\n",
    "\n",
    "# Combine frequency and recency\n",
    "data['Recency'] =grouped_df['Recency']\n",
    "#calculate Monetary\n",
    "data['monetary']=Monetary['Monetary']\n",
    "\n",
    "print(data)\n"
   ]
  },
  {
   "cell_type": "code",
   "execution_count": 227,
   "id": "a50415b4",
   "metadata": {},
   "outputs": [
    {
     "name": "stdout",
     "output_type": "stream",
     "text": [
      "     CustomerID  Frequency  Recency  monetary\n",
      "0       12431.0         14       31    358.25\n",
      "1       12433.0         73       31   1919.14\n",
      "2       12471.0          1        0    -17.00\n",
      "3       12472.0         14       31   -122.30\n",
      "4       12583.0         20       31    855.86\n",
      "..          ...        ...      ...       ...\n",
      "192     18085.0          9       31    303.90\n",
      "193     18144.0          3       31    165.05\n",
      "194     18168.0         14        0    139.60\n",
      "195     18229.0          7       31    344.20\n",
      "196     18239.0         29        0    438.10\n",
      "\n",
      "[197 rows x 4 columns]\n"
     ]
    }
   ],
   "source": [
    "data.dropna(subset=['Recency'], inplace=True)\n",
    "print(data)"
   ]
  },
  {
   "cell_type": "code",
   "execution_count": 231,
   "id": "41a3a513",
   "metadata": {},
   "outputs": [
    {
     "data": {
      "text/plain": [
       "array([[ 1.40000e+01,  3.10000e+01,  3.58250e+02],\n",
       "       [ 7.30000e+01,  3.10000e+01,  1.91914e+03],\n",
       "       [ 1.00000e+00,  0.00000e+00, -1.70000e+01],\n",
       "       [ 1.40000e+01,  3.10000e+01, -1.22300e+02],\n",
       "       [ 2.00000e+01,  3.10000e+01,  8.55860e+02],\n",
       "       [ 1.50000e+01,  3.10000e+01,  2.61480e+02],\n",
       "       [ 2.00000e+00,  0.00000e+00,  9.20000e+00],\n",
       "       [ 2.00000e+00,  3.10000e+01,  1.92600e+02],\n",
       "       [ 5.90000e+01,  3.10000e+01,  3.90790e+02],\n",
       "       [ 3.00000e+00,  0.00000e+00,  3.81000e+01],\n",
       "       [ 1.20000e+01,  3.10000e+01,  2.03300e+02],\n",
       "       [ 1.30000e+01,  0.00000e+00,  1.99650e+02],\n",
       "       [ 1.50000e+01,  3.10000e+01,  3.22400e+02],\n",
       "       [ 1.70000e+01,  3.10000e+01,  3.04040e+02],\n",
       "       [ 5.00000e+00,  0.00000e+00,  4.51200e+01],\n",
       "       [ 3.00000e+00,  0.00000e+00,  5.05500e+01],\n",
       "       [ 1.70000e+01,  3.10000e+01,  3.66630e+02],\n",
       "       [ 1.40000e+01,  3.10000e+01,  2.05860e+02],\n",
       "       [ 4.00000e+00,  0.00000e+00,  1.60600e+02],\n",
       "       [ 1.30000e+01,  3.10000e+01,  7.99400e+02],\n",
       "       [ 1.00000e+01,  0.00000e+00,  3.50060e+02],\n",
       "       [ 1.50000e+01,  0.00000e+00,  2.02120e+02],\n",
       "       [ 1.40000e+01,  0.00000e+00,  1.93230e+02],\n",
       "       [ 1.00000e+00,  0.00000e+00,  2.95000e+02],\n",
       "       [ 6.00000e+00,  3.10000e+01,  2.25700e+02],\n",
       "       [ 1.00000e+00,  0.00000e+00, -3.25000e+00],\n",
       "       [ 5.00000e+00,  0.00000e+00,  1.36200e+02],\n",
       "       [ 1.70000e+01,  0.00000e+00,  3.08280e+02],\n",
       "       [ 1.20000e+01,  0.00000e+00,  1.00383e+03],\n",
       "       [ 2.30000e+01,  0.00000e+00,  6.23240e+02],\n",
       "       [ 1.80000e+01,  3.10000e+01,  4.43960e+02],\n",
       "       [ 2.00000e+01,  3.10000e+01,  3.60050e+02],\n",
       "       [ 7.00000e+00,  0.00000e+00,  9.89000e+01],\n",
       "       [ 1.10000e+01,  3.10000e+01,  3.49150e+02],\n",
       "       [ 6.00000e+00,  3.10000e+01,  8.42120e+02],\n",
       "       [ 1.00000e+01,  3.10000e+01,  3.18140e+02],\n",
       "       [ 1.50000e+01,  0.00000e+00,  2.72650e+02],\n",
       "       [ 1.00000e+00,  3.10000e+01,  7.96000e+01],\n",
       "       [ 1.00000e+00,  3.10000e+01,  2.04000e+02],\n",
       "       [ 1.70000e+01,  3.10000e+01,  3.62450e+02],\n",
       "       [ 1.90000e+01,  0.00000e+00,  8.28580e+02],\n",
       "       [ 3.30000e+01,  3.10000e+01,  6.58516e+03],\n",
       "       [ 1.00000e+00,  0.00000e+00,  4.08000e+02],\n",
       "       [ 1.10000e+01,  0.00000e+00,  1.09512e+03],\n",
       "       [ 5.00000e+00,  0.00000e+00, -1.02450e+02],\n",
       "       [ 9.00000e+00,  3.10000e+01,  3.01240e+02],\n",
       "       [ 2.50000e+01,  0.00000e+00,  1.71425e+03],\n",
       "       [ 1.00000e+00,  3.10000e+01,  3.26400e+02],\n",
       "       [ 1.20000e+01,  0.00000e+00,  2.86920e+02],\n",
       "       [ 8.00000e+00,  0.00000e+00,  3.39840e+02],\n",
       "       [ 1.30000e+01,  3.10000e+01,  1.36240e+02],\n",
       "       [ 1.00000e+00,  0.00000e+00, -5.90000e+00],\n",
       "       [ 2.30000e+01,  0.00000e+00,  4.85250e+02],\n",
       "       [ 2.20000e+01,  3.10000e+01,  3.11810e+02],\n",
       "       [ 2.00000e+00,  0.00000e+00, -7.50000e+00],\n",
       "       [ 1.20000e+01,  0.00000e+00,  2.01750e+02],\n",
       "       [ 9.00000e+00,  3.10000e+01,  1.61000e+02],\n",
       "       [ 2.00000e+00,  0.00000e+00, -1.45000e+01],\n",
       "       [ 4.80000e+01,  3.10000e+01,  7.83110e+02],\n",
       "       [ 2.10000e+01,  0.00000e+00,  3.12800e+02],\n",
       "       [ 2.80000e+01,  0.00000e+00,  2.17750e+02],\n",
       "       [ 3.00000e+00,  0.00000e+00, -1.55700e+01],\n",
       "       [ 5.00000e+01,  0.00000e+00,  2.10240e+02],\n",
       "       [ 1.00000e+01,  0.00000e+00,  3.79750e+02],\n",
       "       [ 4.00000e+00,  0.00000e+00,  1.27200e+02],\n",
       "       [ 5.00000e+00,  3.10000e+01,  3.04340e+02],\n",
       "       [ 1.00000e+00,  3.10000e+01, -2.75000e+01],\n",
       "       [ 1.00000e+00,  0.00000e+00,  3.54000e+01],\n",
       "       [ 3.10000e+01,  3.10000e+01,  2.55000e+02],\n",
       "       [ 4.00000e+01,  3.10000e+01,  1.98320e+02],\n",
       "       [ 2.00000e+00,  0.00000e+00, -3.76500e+01],\n",
       "       [ 1.90000e+01,  3.10000e+01,  4.44980e+02],\n",
       "       [ 1.80000e+01,  3.10000e+01,  2.94620e+02],\n",
       "       [ 7.10000e+01,  3.10000e+01,  3.13490e+02],\n",
       "       [ 9.00000e+00,  0.00000e+00,  1.84500e+02],\n",
       "       [ 1.00000e+00,  0.00000e+00, -2.99000e+01],\n",
       "       [ 2.00000e+01,  0.00000e+00,  4.06560e+02],\n",
       "       [ 1.90000e+01,  0.00000e+00,  2.36970e+02],\n",
       "       [ 1.70000e+01,  3.10000e+01,  3.55840e+02],\n",
       "       [ 1.80000e+01,  0.00000e+00,  2.04150e+02],\n",
       "       [ 2.20000e+01,  0.00000e+00,  5.77880e+02],\n",
       "       [ 5.40000e+01,  3.10000e+01,  1.91060e+02],\n",
       "       [ 7.30000e+01,  0.00000e+00,  9.40734e+03],\n",
       "       [ 1.00000e+00,  0.00000e+00,  1.06200e+02],\n",
       "       [ 1.00000e+00,  3.10000e+01,  3.50400e+02],\n",
       "       [ 5.00000e+00,  0.00000e+00,  1.16000e+02],\n",
       "       [ 1.60000e+01,  0.00000e+00,  2.88500e+02],\n",
       "       [ 2.70000e+01,  3.10000e+01,  4.87750e+02],\n",
       "       [ 5.00000e+00,  3.10000e+01,  7.95000e+01],\n",
       "       [ 1.70000e+01,  0.00000e+00,  4.20500e+02],\n",
       "       [ 2.00000e+00,  3.10000e+01,  3.28800e+02],\n",
       "       [ 3.00000e+00,  0.00000e+00,  1.83501e+03],\n",
       "       [ 3.60000e+01,  3.10000e+01,  4.45330e+02],\n",
       "       [ 5.00000e+00,  3.10000e+01,  1.15650e+02],\n",
       "       [ 1.60000e+01,  0.00000e+00,  3.26000e+02],\n",
       "       [ 2.00000e+00,  0.00000e+00, -6.65000e+00],\n",
       "       [ 2.30000e+01,  3.10000e+01,  9.50090e+02],\n",
       "       [ 3.00000e+00,  3.10000e+01,  3.57000e+02],\n",
       "       [ 5.70000e+01,  3.10000e+01,  3.13930e+02],\n",
       "       [ 2.60000e+01,  0.00000e+00,  3.54540e+02],\n",
       "       [ 1.21000e+02,  0.00000e+00,  3.75650e+02],\n",
       "       [ 4.80000e+01,  0.00000e+00,  7.68380e+02],\n",
       "       [ 1.20000e+01,  3.10000e+01,  1.94850e+02],\n",
       "       [ 7.00000e+00,  0.00000e+00,  3.33720e+02],\n",
       "       [ 1.70000e+01,  0.00000e+00,  1.89800e+02],\n",
       "       [ 1.40000e+01,  0.00000e+00,  3.06200e+02],\n",
       "       [ 6.00000e+00,  0.00000e+00,  3.06400e+02],\n",
       "       [ 5.00000e+00,  0.00000e+00,  1.38100e+02],\n",
       "       [ 1.40000e+01,  0.00000e+00,  3.29650e+02],\n",
       "       [ 1.40000e+01,  0.00000e+00,  2.59650e+02],\n",
       "       [ 1.00000e+00,  0.00000e+00,  1.50000e+01],\n",
       "       [ 1.40000e+01,  0.00000e+00,  1.90930e+02],\n",
       "       [ 2.00000e+00,  0.00000e+00, -2.38500e+01],\n",
       "       [ 1.00000e+00,  0.00000e+00, -2.80800e+02],\n",
       "       [ 6.40000e+01,  3.10000e+01,  3.54230e+02],\n",
       "       [ 1.20000e+01,  0.00000e+00,  3.63600e+02],\n",
       "       [ 2.10000e+01,  0.00000e+00,  1.27080e+02],\n",
       "       [ 2.00000e+01,  0.00000e+00,  5.72380e+02],\n",
       "       [ 3.20000e+01,  3.10000e+01,  4.40890e+02],\n",
       "       [ 1.20000e+01,  0.00000e+00,  4.27152e+03],\n",
       "       [ 2.00000e+00,  0.00000e+00, -2.49500e+01],\n",
       "       [ 8.00000e+00,  3.10000e+01,  2.56440e+02],\n",
       "       [ 1.20000e+01,  3.10000e+01,  4.30600e+02],\n",
       "       [ 2.00000e+01,  0.00000e+00,  3.07680e+02],\n",
       "       [ 1.10000e+01,  0.00000e+00,  1.70700e+02],\n",
       "       [ 1.40000e+01,  3.10000e+01,  2.47474e+03],\n",
       "       [ 2.80000e+01,  3.10000e+01,  4.71300e+02],\n",
       "       [ 6.30000e+01,  0.00000e+00,  1.05663e+03],\n",
       "       [ 1.40000e+01,  3.10000e+01,  2.26140e+02],\n",
       "       [ 6.70000e+01,  3.10000e+01,  3.57950e+02],\n",
       "       [ 1.60000e+01,  3.10000e+01,  7.87400e+02],\n",
       "       [ 1.30000e+01,  0.00000e+00,  2.48100e+02],\n",
       "       [ 2.10000e+01,  3.10000e+01,  4.42350e+02],\n",
       "       [ 1.20000e+01,  0.00000e+00, -5.83680e+02],\n",
       "       [ 5.00000e+00,  3.10000e+01,  9.52900e+01],\n",
       "       [ 1.40000e+01,  3.10000e+01,  2.33450e+02],\n",
       "       [ 8.00000e+00,  0.00000e+00,  1.64800e+02],\n",
       "       [ 9.00000e+00,  0.00000e+00,  2.07500e+02],\n",
       "       [ 2.00000e+00,  0.00000e+00,  2.00240e+03],\n",
       "       [ 6.00000e+00,  0.00000e+00,  1.30800e+02],\n",
       "       [ 1.70000e+01,  0.00000e+00,  3.11250e+02],\n",
       "       [ 5.00000e+00,  3.10000e+01,  8.17500e+01],\n",
       "       [ 5.00000e+01,  0.00000e+00,  1.98080e+02],\n",
       "       [ 6.00000e+00,  3.10000e+01,  1.16250e+02],\n",
       "       [ 6.00000e+00,  3.10000e+01,  1.56100e+02],\n",
       "       [ 1.00000e+00,  0.00000e+00, -1.25000e+00],\n",
       "       [ 2.30000e+01,  0.00000e+00,  8.77320e+02],\n",
       "       [ 5.00000e+00,  3.10000e+01,  1.60970e+02],\n",
       "       [ 1.10000e+01,  3.10000e+01,  2.77050e+02],\n",
       "       [ 2.00000e+00,  3.10000e+01,  1.55520e+02],\n",
       "       [ 1.80000e+01,  0.00000e+00,  1.83300e+02],\n",
       "       [ 1.00000e+01,  0.00000e+00,  3.41900e+02],\n",
       "       [ 1.30000e+01,  0.00000e+00,  1.13920e+02],\n",
       "       [ 3.50000e+01,  3.10000e+01,  1.46610e+02],\n",
       "       [ 1.50000e+01,  3.10000e+01,  2.23900e+02],\n",
       "       [ 6.00000e+00,  0.00000e+00,  1.03608e+03],\n",
       "       [ 8.00000e+00,  0.00000e+00,  1.97300e+02],\n",
       "       [ 7.00000e+00,  3.10000e+01,  1.30850e+02],\n",
       "       [ 2.00000e+00,  0.00000e+00,  7.03000e+01],\n",
       "       [ 2.40000e+01,  3.10000e+01,  1.82574e+03],\n",
       "       [ 2.00000e+00,  0.00000e+00, -1.18000e+01],\n",
       "       [ 7.00000e+00,  3.10000e+01, -1.41480e+02],\n",
       "       [ 2.70000e+01,  0.00000e+00,  5.17950e+02],\n",
       "       [ 4.00000e+00,  3.10000e+01,  7.08000e+01],\n",
       "       [ 3.80000e+01,  0.00000e+00,  7.86780e+02],\n",
       "       [ 8.00000e+00,  3.10000e+01,  1.01550e+02],\n",
       "       [ 1.20000e+01,  0.00000e+00,  2.47800e+02],\n",
       "       [ 1.20000e+01,  0.00000e+00,  4.52520e+02],\n",
       "       [ 1.40000e+01,  3.10000e+01,  3.76800e+02],\n",
       "       [ 1.80000e+01,  0.00000e+00,  3.03970e+02],\n",
       "       [ 2.30000e+01,  0.00000e+00,  1.43450e+02],\n",
       "       [ 9.00000e+00,  3.10000e+01,  1.72540e+02],\n",
       "       [ 1.20000e+01,  0.00000e+00,  1.00200e+02],\n",
       "       [ 1.00000e+00,  3.10000e+01,  3.48000e+01],\n",
       "       [ 3.10000e+01,  0.00000e+00,  7.17160e+02],\n",
       "       [ 6.70000e+01,  3.10000e+01,  5.33580e+02],\n",
       "       [ 2.97000e+02,  0.00000e+00,  5.39121e+03],\n",
       "       [ 1.70000e+01,  0.00000e+00,  2.08970e+02],\n",
       "       [ 9.00000e+00,  3.10000e+01,  2.15150e+02],\n",
       "       [ 3.60000e+01,  3.10000e+01,  1.40390e+02],\n",
       "       [ 2.30000e+01,  3.10000e+01,  2.01750e+02],\n",
       "       [ 5.80000e+01,  3.10000e+01,  2.43280e+02],\n",
       "       [ 8.10000e+01,  3.10000e+01,  5.14410e+02],\n",
       "       [ 4.00000e+00,  0.00000e+00,  2.55750e+02],\n",
       "       [ 1.00000e+00,  0.00000e+00,  2.44080e+02],\n",
       "       [ 5.00000e+00,  3.10000e+01,  2.95500e+02],\n",
       "       [ 3.50000e+01,  0.00000e+00,  2.61760e+02],\n",
       "       [ 8.50000e+01,  3.10000e+01,  2.77350e+02],\n",
       "       [ 6.50000e+01,  0.00000e+00,  3.53190e+02],\n",
       "       [ 2.80000e+01,  3.10000e+01,  1.02790e+02],\n",
       "       [ 8.10000e+01,  0.00000e+00,  4.28940e+02],\n",
       "       [ 1.30000e+01,  3.10000e+01,  4.89600e+02],\n",
       "       [ 9.00000e+00,  3.10000e+01,  3.03900e+02],\n",
       "       [ 3.00000e+00,  3.10000e+01,  1.65050e+02],\n",
       "       [ 1.40000e+01,  0.00000e+00,  1.39600e+02],\n",
       "       [ 7.00000e+00,  3.10000e+01,  3.44200e+02],\n",
       "       [ 2.90000e+01,  0.00000e+00,  4.38100e+02]])"
      ]
     },
     "execution_count": 231,
     "metadata": {},
     "output_type": "execute_result"
    }
   ],
   "source": [
    "X = data.iloc[:, [1,2,3]].values\n",
    "X"
   ]
  },
  {
   "cell_type": "code",
   "execution_count": 233,
   "id": "4cdea281",
   "metadata": {},
   "outputs": [
    {
     "data": {
      "image/png": "[encoded data removed]",
      "text/plain": [
       "<Figure size 640x480 with 1 Axes>"
      ]
     },
     "metadata": {},
     "output_type": "display_data"
    }
   ],
   "source": [
    "import scipy.cluster.hierarchy as sch\n",
    "import matplotlib.pyplot as plt\n",
    "dendrogram = sch.dendrogram(sch.linkage(X, method = 'ward'))\n",
    "plt.title('Dendrogram')\n",
    "plt.xlabel('Observations')\n",
    "plt.ylabel('Distance')\n",
    "plt.show()"
   ]
  },
  {
   "cell_type": "code",
   "execution_count": 239,
   "id": "e2d9c355",
   "metadata": {},
   "outputs": [
    {
     "name": "stdout",
     "output_type": "stream",
     "text": [
      "[[1.38384828e+04 1.27586207e+01 1.38965517e+01 4.26518276e+02]\n",
      " [1.68756522e+04 1.33043478e+01 1.48260870e+01 2.10642609e+02]\n",
      " [1.50610000e+04 7.30000000e+01 0.00000000e+00 9.40734000e+03]\n",
      " [1.57417632e+04 2.05000000e+01 1.22368421e+01 2.85326579e+02]\n",
      " [1.78082439e+04 2.25853659e+01 1.58780488e+01 2.85092927e+02]\n",
      " [1.69395000e+04 1.54500000e+02 0.00000000e+00 4.83136500e+03]\n",
      " [1.47000667e+04 1.75000000e+01 1.24000000e+01 2.21186000e+02]\n",
      " [1.64036000e+04 2.12000000e+01 1.24000000e+01 1.83890400e+03]\n",
      " [1.37770000e+04 3.30000000e+01 3.10000000e+01 6.58516000e+03]\n",
      " [1.29101852e+04 1.36296296e+01 1.60740741e+01 2.94175185e+02]]\n"
     ]
    },
    {
     "name": "stderr",
     "output_type": "stream",
     "text": [
      "C:\\Users\\oki\\AppData\\Roaming\\Python\\Python311\\site-packages\\sklearn\\cluster\\_kmeans.py:870: FutureWarning: The default value of `n_init` will change from 10 to 'auto' in 1.4. Set the value of `n_init` explicitly to suppress the warning\n",
      "  warnings.warn(\n"
     ]
    },
    {
     "data": {
      "image/png": "[encoded data removed]",
      "text/plain": [
       "<Figure size 640x480 with 1 Axes>"
      ]
     },
     "metadata": {},
     "output_type": "display_data"
    }
   ],
   "source": [
    "from sklearn.cluster import KMeans\n",
    "import matplotlib.pyplot as plt\n",
    "\n",
    "# Perform k-means clustering\n",
    "kmeans = KMeans(n_clusters=10).fit(data)\n",
    "centroids = kmeans.cluster_centers_\n",
    "print(centroids)\n",
    "\n",
    "# Plot the clusters\n",
    "plt.scatter(data['Recency'], data['Frequency'], c=kmeans.labels_.astype(float), s=50, alpha=0.5)\n",
    "plt.scatter(centroids[:, 0], centroids[:, 1], c='red', s=50)\n",
    "plt.xlabel('Recency')\n",
    "plt.ylabel('Frequency')\n",
    "plt.title('K-means Clustering')\n",
    "plt.show()"
   ]
  }
 ],
 "metadata": {
  "kernelspec": {
   "display_name": "Python 3 (ipykernel)",
   "language": "python",
   "name": "python3"
  },
  "language_info": {
   "codemirror_mode": {
    "name": "ipython",
    "version": 3
   },
   "file_extension": ".py",
   "mimetype": "text/x-python",
   "name": "python",
   "nbconvert_exporter": "python",
   "pygments_lexer": "ipython3",
   "version": "3.11.0"
  }
 },
 "nbformat": 4,
 "nbformat_minor": 5
}
